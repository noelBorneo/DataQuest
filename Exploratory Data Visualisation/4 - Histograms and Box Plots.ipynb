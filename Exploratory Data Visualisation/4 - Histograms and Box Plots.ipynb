{
 "cells": [
  {
   "cell_type": "markdown",
   "metadata": {},
   "source": [
    "# Histograms and Box Plots\n",
    "\n",
    "Histograms help us visualize continuous values using bins while bar plots help us visualize discrete values. The locations of the bars on the x-axis matter in a histogram but they don't in a simple bar plot. \n",
    "\n",
    "Lastly, bar plots also have gaps between the bars, to emphasize that the values are discrete."
   ]
  },
  {
   "cell_type": "code",
   "execution_count": 46,
   "metadata": {},
   "outputs": [],
   "source": [
    "import pandas as pd\n",
    "import matplotlib.pyplot as plt\n",
    "\n",
    "reviews = pd.read_csv('fandango_scores.csv')\n",
    "cols = ['FILM', 'RT_user_norm', 'Metacritic_user_nom', 'IMDB_norm', 'Fandango_Ratingvalue']\n",
    "num_cols = cols[1:]\n",
    "norm_reviews = reviews[cols]"
   ]
  },
  {
   "cell_type": "markdown",
   "metadata": {},
   "source": [
    "Let's first compare the **frequency distributions** of user ratings from Fandango with those from IMDB using tables. A column's <a href=\"https://en.wikipedia.org/wiki/Frequency_distribution\">frequency distribution</a> consists of the unique values in that column along with the count for each of those values (or their frequency). \n",
    "\n",
    "We can use <a href=\"http://pandas.pydata.org/pandas-docs/stable/generated/pandas.Series.value_counts.html\">Series.value_counts()</a> to return the frequency distribution as Series object:\n",
    "> `freq_counts = df['Fandango_Ratingvalue'].value_counts()`\n",
    "\n",
    "The resulting Series object will be sorted by frequency in descending order:\n",
    "![](https://s3.amazonaws.com/dq-content/fandango_frequency_distribution.png)\n",
    "\n",
    "We can use <a href=\"http://pandas.pydata.org/pandas-docs/stable/generated/pandas.Series.sort_index.html\">Series.sort_index()</a> to sort the frequency distribution in ascending order by the values in the column (which make up the index for the Series object):\n",
    "> `freq_counts = df['Fandango_Ratingvalue'].value_counts()` <br/>\n",
    "> `sorted_freq_counts = freq_counts.sort_index()`\n",
    "\n",
    "![](https://s3.amazonaws.com/dq-content/both_fandango_distributions.png)"
   ]
  },
  {
   "cell_type": "code",
   "execution_count": 6,
   "metadata": {},
   "outputs": [],
   "source": [
    "# return the frequency counts for the Fandango_Ratingvalue column\n",
    "freq_counts = norm_reviews.Fandango_Ratingvalue.value_counts()\n",
    "\n",
    "# Sort the resulting Series object by the index\n",
    "fandango_distribution = freq_counts.sort_index()\n",
    "\n",
    "# return frequency counts the IMDB_norm column and sort object by index\n",
    "imdb_distribution = norm_reviews.IMDB_norm.value_counts().sort_index()"
   ]
  },
  {
   "cell_type": "markdown",
   "metadata": {},
   "source": [
    "While we can quickly determine the minimum and maximum values, we struggle to answer the following questions about a column:\n",
    "\n",
    "- What percent of the ratings are contained in the 2.0 to 4.0 range?\n",
    "    - How does this compare with other sites?\n",
    "- Which values represent the top 25% of the ratings? The bottom 25%?\n",
    "    - How does this compare with other sites?\n",
    "    \n",
    "Comparing frequency distributions is also challenging because the `Fandango_Ratingvalue` column contains 21 unique values while `IMDB_norm` contains 41 unique values. \n",
    "\n",
    "Because all ratings have been normalized to a range of 0 to 5, we can start by dividing the range of possible values into a series of fixed length intervals, called **bins**. We can then sum the frequencies for the values that fall into each bin.\n",
    "\n",
    "![](https://s3.amazonaws.com/dq-content/histogram_binning.png)\n",
    "\n",
    "**Generate a histogram**\n",
    "> `ax.hist()`\n",
    "\n",
    "The `Axes.hist()` method has 1 required parameters, an iterable object containing the values we want a histogram for. By default, matplotlib will:\n",
    "\n",
    "- calculate the minimum and maximum value from the sequence of values we passed in\n",
    "- create 10 bins of equal length that span the range from the minimum to the maximum value\n",
    "- group unique values into the bins\n",
    "- sum up the associated unique values\n",
    "- generate a bar for the frequency sum for each bin"
   ]
  },
  {
   "cell_type": "code",
   "execution_count": 7,
   "metadata": {},
   "outputs": [
    {
     "data": {
      "image/png": "[encoded data removed]",
      "text/plain": [
       "<Figure size 432x288 with 1 Axes>"
      ]
     },
     "metadata": {},
     "output_type": "display_data"
    }
   ],
   "source": [
    "# create a figure and axes\n",
    "fig, ax = plt.subplots()\n",
    "\n",
    "# generate histogram using a range of 0 to 5\n",
    "ax.hist(norm_reviews.Fandango_Ratingvalue, range=(0,5))\n",
    "\n",
    "# display the plot\n",
    "plt.show()"
   ]
  },
  {
   "cell_type": "markdown",
   "metadata": {},
   "source": [
    "> *What percent of the ratings are contained in the 2.0 to 4.0 range?*\n",
    "\n",
    "We can visually examine the proportional area that the bars in the 2.0 to 4.0 range take up and determine that more than 50% of the movies on Fandango fall in this range. We can increase the number of bins from 10 to 20 for improved resolution of the distribution. \n",
    "\n",
    "The length of each bin will be 0.25 (5 / 20) instead of 0.5 (5 / 10). The bins parameter for `Axes.hist()` is the 2nd positional parameter, but can also be specified as a named parameter:\n",
    "> `ax.hist(norm_reviews['Fandango_Ratingvalue'], 20, range=(0, 5))` <br />\n",
    "> `ax.hist(norm_reviews['Fandango_Ratingvalue'], bins=20, range=(0, 5))`"
   ]
  },
  {
   "cell_type": "code",
   "execution_count": 35,
   "metadata": {},
   "outputs": [
    {
     "data": {
      "image/png": "[encoded data removed]",
      "text/plain": [
       "<Figure size 1080x720 with 4 Axes>"
      ]
     },
     "metadata": {},
     "output_type": "display_data"
    }
   ],
   "source": [
    "# instantiate figure\n",
    "fig = plt.figure(figsize=(15,10))\n",
    "\n",
    "# ax1 subplot, Fandango\n",
    "ax1 = fig.add_subplot(2, 2, 1)\n",
    "ax1.hist(norm_reviews.Fandango_Ratingvalue, bins=20, range=(0,5))\n",
    "ax1.set_title('Distribution of Fandango Ratings')\n",
    "ax1.set_ylim(0, 50)\n",
    "\n",
    "# ax2 subplot, Rotten Tomatoes\n",
    "ax2 = fig.add_subplot(2, 2, 2)\n",
    "ax2.hist(norm_reviews.RT_user_norm, bins=20, range=(0,5))\n",
    "ax2.set_title('Distribution of Rotten Tomatoes Ratings')\n",
    "ax2.set_ylim(0, 50)\n",
    "\n",
    "# ax3 subplot, Metacritic\n",
    "ax3 = fig.add_subplot(2, 2, 3)\n",
    "ax3.hist(norm_reviews.Metacritic_user_nom, bins=20, range=(0,5))\n",
    "ax3.set_title('Distribution of Metacritic Ratings')\n",
    "ax3.set_ylim(0, 50)\n",
    "\n",
    "# ax4 subplot, IMDB\n",
    "ax4 = fig.add_subplot(2, 2, 4)\n",
    "ax4.hist(norm_reviews.IMDB_norm, bins=20, range=(0,5))\n",
    "ax4.set_title('Distribution of IMDB Ratings')\n",
    "ax4.set_ylim(0, 50)\n",
    "\n",
    "# display plot\n",
    "plt.show()"
   ]
  },
  {
   "cell_type": "markdown",
   "metadata": {},
   "source": [
    "From the histograms, we can make the following observations:\n",
    "\n",
    "- Around 50% of user ratings from Fandango fall in the 2 to 4 score range\n",
    "- Around 50% of user ratings from Rotten Tomatoes fall in the 2 to 4 score range\n",
    "- Around 75% of the user ratings from Metacritic fall in the 2 to 4 score range\n",
    "- Around 90% of the user ratings from IMDB fall in the 2 to 4 score range\n",
    "\n",
    "While histograms allow us to visually estimate the percentage of ratings that fall into a range of bins, they don't allow us to easily understand how the top 25% or the bottom 25% of the ratings differ across the sites. The bottom 25% of values and top 25% of values both represent <a href=\"https://en.wikipedia.org/wiki/Quartile\">quartiles</a>. The four quartiles divide the range of values into four regions where each region contains 1/4th of the total values."
   ]
  },
  {
   "cell_type": "markdown",
   "metadata": {},
   "source": [
    "---\n",
    "## Box Plots\n",
    "\n",
    "A box plot consists of box-and-whisker diagrams, which represents the different quartiles in a visual way.\n",
    "\n",
    "Here's a box plot of the values in the `RT_user_norm` column:\n",
    "![](https://s3.amazonaws.com/dq-content/boxplot_intro.png)\n",
    "\n",
    "The two regions contained within the box in the middle make up the **interquartile range**, or IQR. The IQR is used to *measure dispersion of the values*. The ratio of the length of the box to the whiskers around the box helps us understand how values in the distribution are spread out.\n",
    "\n",
    "**Generate a boxplot using `Axes.boxplot()`:**\n",
    "> `ax.boxplot(norm_reviews['RT_user_norm'])`\n",
    "\n",
    "Matplotlib will sort the values, calculate the quartiles that divide the values into four equal regions, and generate the box and whisker diagram."
   ]
  },
  {
   "cell_type": "code",
   "execution_count": 42,
   "metadata": {},
   "outputs": [
    {
     "data": {
      "image/png": "[encoded data removed]",
      "text/plain": [
       "<Figure size 432x288 with 1 Axes>"
      ]
     },
     "metadata": {},
     "output_type": "display_data"
    }
   ],
   "source": [
    "# generate a single subplot\n",
    "fig, ax = plt.subplots()\n",
    "\n",
    "# generate a box plot, Rotten Tomatoes\n",
    "ax.boxplot(norm_reviews['RT_user_norm'])\n",
    "ax.set_xticklabels(['Rotten Tomatoes'])\n",
    "ax.set_ylim(0,5)\n",
    "\n",
    "# display plot\n",
    "plt.show()"
   ]
  },
  {
   "cell_type": "markdown",
   "metadata": {},
   "source": [
    "From the box plot we generated using Rotten Tomatoes ratings, we can conclude that:\n",
    "\n",
    "- the **bottom 25%** of user ratings range from around 1 to 2.5\n",
    "- the **top 25%** of of user ratings range from around 4 to 4.6\n",
    "\n",
    "To compare the lower and upper ranges with those for the other columns, we need to generate multiple box-and-whisker diagrams in the same box plot. \n",
    "\n",
    "When selecting multiple columns to pass in to `Axes.boxplot()`, we need to use the values accessor to return a multi-dimensional numpy array:"
   ]
  },
  {
   "cell_type": "code",
   "execution_count": 51,
   "metadata": {},
   "outputs": [
    {
     "data": {
      "image/png": "[encoded data removed]",
      "text/plain": [
       "<Figure size 432x288 with 1 Axes>"
      ]
     },
     "metadata": {},
     "output_type": "display_data"
    }
   ],
   "source": [
    "# create figure and axes instance\n",
    "fig, ax = plt.subplots()\n",
    "\n",
    "# generate boxplot for each column\n",
    "ax.boxplot(norm_reviews[num_cols].values)\n",
    "ax.set_xticklabels(num_cols, rotation=90)\n",
    "ax.set_ylim(0,5)\n",
    "\n",
    "# display plot\n",
    "plt.show()"
   ]
  },
  {
   "cell_type": "markdown",
   "metadata": {},
   "source": [
    "From the boxplot, we can reach the following conclusions:\n",
    "\n",
    "- user ratings from Rotten Tomatoes and Metacritic span a larger range of values\n",
    "- user ratings from IMDB and Fandango are both skewed in the positive direction and span a more constrained range of values\n",
    "\n",
    "In addition, you may have noticed there are a couple user ratings from both Metacritic and IMDB that are just beyond the boxplot's whiskers. These values are called **outliers** or extreme values. \n",
    "\n",
    "Outliers are usually treated as abnormal values and affect the overall observation of the data set due to their very high or low values."
   ]
  },
  {
   "cell_type": "code",
   "execution_count": null,
   "metadata": {},
   "outputs": [],
   "source": []
  }
 ],
 "metadata": {
  "kernelspec": {
   "display_name": "Python 3",
   "language": "python",
   "name": "python3"
  },
  "language_info": {
   "codemirror_mode": {
    "name": "ipython",
    "version": 3
   },
   "file_extension": ".py",
   "mimetype": "text/x-python",
   "name": "python",
   "nbconvert_exporter": "python",
   "pygments_lexer": "ipython3",
   "version": "3.6.5"
  }
 },
 "nbformat": 4,
 "nbformat_minor": 2
}
