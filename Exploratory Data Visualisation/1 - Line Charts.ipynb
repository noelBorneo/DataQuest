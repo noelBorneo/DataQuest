{
 "cells": [
  {
   "cell_type": "markdown",
   "metadata": {},
   "source": [
    "# Line Charts\n",
    "\n",
    "The <a href=\"https://www.bls.gov/\">United States Bureau of Labor Statistics</a> (BLS) surveys and calculates the monthly unemployment rate. The unemployment rate is the percentage of individuals in the labor force without a job. While unemployment rate <a href=\"https://en.wikipedia.org/wiki/Unemployment#Limitations_of_the_unemployment_definition\">isn't perfect</a>, it's a commonly used proxy for the health of the economy. You may have heard politicians and reporters state the unemployment rate when commenting on the economy. You can read more about how the BLS calculates the unemployment rate <a href=\"http://www.bls.gov/cps/cps_htgm.htm\">here</a>.\n",
    "\n",
    "The BLS releases monthly unemployment data available for download as an Excel file, with the `.xlsx` file extension. While the pandas library can read in XLSX files, it relies on an external library for actually parsing the format. Let's instead download the same dataset as a CSV file from the website of the <a href=\"https://www.stlouisfed.org/\">Federal Reserve Bank of St. Louis. </a> We've downloaded the monthly unemployment rate as a CSV from January 1948 to August 2016, saved it as `unrate.csv`, and made it available in this mission."
   ]
  },
  {
   "cell_type": "code",
   "execution_count": 2,
   "metadata": {},
   "outputs": [],
   "source": [
    "import pandas as pd\n",
    "\n",
    "unrate = pd.read_csv(\"unrate.csv\")"
   ]
  },
  {
   "cell_type": "code",
   "execution_count": 3,
   "metadata": {},
   "outputs": [
    {
     "data": {
      "text/html": [
       "<div>\n",
       "<style scoped>\n",
       "    .dataframe tbody tr th:only-of-type {\n",
       "        vertical-align: middle;\n",
       "    }\n",
       "\n",
       "    .dataframe tbody tr th {\n",
       "        vertical-align: top;\n",
       "    }\n",
       "\n",
       "    .dataframe thead th {\n",
       "        text-align: right;\n",
       "    }\n",
       "</style>\n",
       "<table border=\"1\" class=\"dataframe\">\n",
       "  <thead>\n",
       "    <tr style=\"text-align: right;\">\n",
       "      <th></th>\n",
       "      <th>DATE</th>\n",
       "      <th>VALUE</th>\n",
       "    </tr>\n",
       "  </thead>\n",
       "  <tbody>\n",
       "    <tr>\n",
       "      <th>0</th>\n",
       "      <td>1948-01-01</td>\n",
       "      <td>3.4</td>\n",
       "    </tr>\n",
       "    <tr>\n",
       "      <th>1</th>\n",
       "      <td>1948-02-01</td>\n",
       "      <td>3.8</td>\n",
       "    </tr>\n",
       "    <tr>\n",
       "      <th>2</th>\n",
       "      <td>1948-03-01</td>\n",
       "      <td>4.0</td>\n",
       "    </tr>\n",
       "    <tr>\n",
       "      <th>3</th>\n",
       "      <td>1948-04-01</td>\n",
       "      <td>3.9</td>\n",
       "    </tr>\n",
       "    <tr>\n",
       "      <th>4</th>\n",
       "      <td>1948-05-01</td>\n",
       "      <td>3.5</td>\n",
       "    </tr>\n",
       "  </tbody>\n",
       "</table>\n",
       "</div>"
      ],
      "text/plain": [
       "         DATE  VALUE\n",
       "0  1948-01-01    3.4\n",
       "1  1948-02-01    3.8\n",
       "2  1948-03-01    4.0\n",
       "3  1948-04-01    3.9\n",
       "4  1948-05-01    3.5"
      ]
     },
     "execution_count": 3,
     "metadata": {},
     "output_type": "execute_result"
    }
   ],
   "source": [
    "unrate.head()"
   ]
  },
  {
   "cell_type": "markdown",
   "metadata": {},
   "source": [
    "The dataset we'll be working with is a <a href =\"https://en.wikipedia.org/wiki/Time_series\">time series</a> dataset, which means the data points (monthly unemployment rates) are ordered by time.\n",
    "\n",
    "We need to convert this column to the `datetime` type using the `pandas.to_datetime()` function, which returns a Series object with the datetime data type that we can assign back to the DataFrame\n",
    "\n",
    "#### Convert column to `datetime` type: \n",
    "> `df['col'] = pd.to_datetime(df['col'])`"
   ]
  },
  {
   "cell_type": "code",
   "execution_count": 4,
   "metadata": {},
   "outputs": [
    {
     "data": {
      "text/html": [
       "<div>\n",
       "<style scoped>\n",
       "    .dataframe tbody tr th:only-of-type {\n",
       "        vertical-align: middle;\n",
       "    }\n",
       "\n",
       "    .dataframe tbody tr th {\n",
       "        vertical-align: top;\n",
       "    }\n",
       "\n",
       "    .dataframe thead th {\n",
       "        text-align: right;\n",
       "    }\n",
       "</style>\n",
       "<table border=\"1\" class=\"dataframe\">\n",
       "  <thead>\n",
       "    <tr style=\"text-align: right;\">\n",
       "      <th></th>\n",
       "      <th>DATE</th>\n",
       "      <th>VALUE</th>\n",
       "    </tr>\n",
       "  </thead>\n",
       "  <tbody>\n",
       "    <tr>\n",
       "      <th>0</th>\n",
       "      <td>1948-01-01</td>\n",
       "      <td>3.4</td>\n",
       "    </tr>\n",
       "    <tr>\n",
       "      <th>1</th>\n",
       "      <td>1948-02-01</td>\n",
       "      <td>3.8</td>\n",
       "    </tr>\n",
       "    <tr>\n",
       "      <th>2</th>\n",
       "      <td>1948-03-01</td>\n",
       "      <td>4.0</td>\n",
       "    </tr>\n",
       "    <tr>\n",
       "      <th>3</th>\n",
       "      <td>1948-04-01</td>\n",
       "      <td>3.9</td>\n",
       "    </tr>\n",
       "    <tr>\n",
       "      <th>4</th>\n",
       "      <td>1948-05-01</td>\n",
       "      <td>3.5</td>\n",
       "    </tr>\n",
       "    <tr>\n",
       "      <th>5</th>\n",
       "      <td>1948-06-01</td>\n",
       "      <td>3.6</td>\n",
       "    </tr>\n",
       "    <tr>\n",
       "      <th>6</th>\n",
       "      <td>1948-07-01</td>\n",
       "      <td>3.6</td>\n",
       "    </tr>\n",
       "    <tr>\n",
       "      <th>7</th>\n",
       "      <td>1948-08-01</td>\n",
       "      <td>3.9</td>\n",
       "    </tr>\n",
       "    <tr>\n",
       "      <th>8</th>\n",
       "      <td>1948-09-01</td>\n",
       "      <td>3.8</td>\n",
       "    </tr>\n",
       "    <tr>\n",
       "      <th>9</th>\n",
       "      <td>1948-10-01</td>\n",
       "      <td>3.7</td>\n",
       "    </tr>\n",
       "    <tr>\n",
       "      <th>10</th>\n",
       "      <td>1948-11-01</td>\n",
       "      <td>3.8</td>\n",
       "    </tr>\n",
       "    <tr>\n",
       "      <th>11</th>\n",
       "      <td>1948-12-01</td>\n",
       "      <td>4.0</td>\n",
       "    </tr>\n",
       "  </tbody>\n",
       "</table>\n",
       "</div>"
      ],
      "text/plain": [
       "         DATE  VALUE\n",
       "0  1948-01-01    3.4\n",
       "1  1948-02-01    3.8\n",
       "2  1948-03-01    4.0\n",
       "3  1948-04-01    3.9\n",
       "4  1948-05-01    3.5\n",
       "5  1948-06-01    3.6\n",
       "6  1948-07-01    3.6\n",
       "7  1948-08-01    3.9\n",
       "8  1948-09-01    3.8\n",
       "9  1948-10-01    3.7\n",
       "10 1948-11-01    3.8\n",
       "11 1948-12-01    4.0"
      ]
     },
     "execution_count": 4,
     "metadata": {},
     "output_type": "execute_result"
    }
   ],
   "source": [
    "# convert the DATE column into a series of datetime values\n",
    "unrate.DATE = pd.to_datetime(unrate.DATE)\n",
    "\n",
    "# display the first 12 columns\n",
    "unrate.head(12)"
   ]
  },
  {
   "cell_type": "markdown",
   "metadata": {},
   "source": [
    "The first 12 rows reflect the **unemployment rate** from *January 1948* to *December 1948*. The values seem to fluctuate throughout the months. In addition, March and December appears to have the highest rate of unemployment.\n",
    "\n",
    "In 1948:\n",
    "\n",
    "- monthly unemployment ranged from `3.4` to `4.0`\n",
    "- *highest* unemployment rate was reached in both **March** and **December**\n",
    "- *lowest* unemployment rate was reached in **January**\n",
    "\n",
    "Trend analysis:\n",
    "\n",
    "- from `January` to `March`, unemployment rate trended **up**\n",
    "- from `March` to `May`, unemployment rate trended **down**\n",
    "- from `May` to `August`, unemployment rate trended **up**\n",
    "- from `August` to `October`, unemployment rate trended **down**\n",
    "- from `October` to `December`, unemployment rate trended **up**\n",
    "\n",
    "Every few months, the unemployment rate switches between trending up and trending down and this could mean that there's a seasonal effect. To prove this, we'll compare the unemployment trends across many years so we can decide if we should investigate further.\n",
    "\n",
    "**`Seasonality`** is when a pattern is observed on a regular, predictable basis for a specific reason.\n",
    "\n"
   ]
  },
  {
   "attachments": {},
   "cell_type": "markdown",
   "metadata": {},
   "source": [
    "<a href=\"https://en.wikipedia.org/wiki/Plot_%28graphics%29\">Plots</a> are a category of visual representations that allow us to easily understand the relationships between variables.\n",
    "![](https://s3.amazonaws.com/dq-content/line_plot_basics.png)"
   ]
  },
  {
   "cell_type": "markdown",
   "metadata": {},
   "source": [
    "Line charts work best when there is a **logical connection** between **adjacent points**. In our case, that connection is the flow of time. Between 2 reported monthly unemployment values, the unemployment rate is fluctuating and time is passing. To emphasize how the visual representation of the line chart helps us observe trends easily, let's look at the same 12 data points from 1948 as a line chart.\n",
    "\n",
    "![](https://s3.amazonaws.com/dq-content/unemp_line_plot.png)"
   ]
  },
  {
   "cell_type": "markdown",
   "metadata": {},
   "source": [
    "We can reach the same observations about the data from the line chart as we did from the table representation:\n",
    "\n",
    "> In 1948:\n",
    "- *highest* unemployment rate was reached in both **March** and **December**\n",
    "\n",
    "![](https://s3.amazonaws.com/dq-content/unemp_plot_observations.png)\n",
    "\n",
    "To create the `line chart`, we'll use the <a href=\"http://matplotlib.org/\">**matplotlib**</a> library, which allows us to:\n",
    "\n",
    "- quickly create common plots using high-level functions\n",
    "- extensively tweak plots\n",
    "- create new kinds of plots from the ground up\n",
    "\n",
    "To help you become familiar with matplotlib, we'll focus on the first 2 use cases. When working with commonly used plots in matplotlib, the *general workflow* is:\n",
    "\n",
    "- *`create`* a plot using data\n",
    "- *`customize`* the appearance of the plot\n",
    "- *`display`* the plot\n",
    "- *`edit and repeat`* until satisfied\n",
    "\n",
    "#### Create and display plot with `pyplot`: \n",
    "> `import matplotlib.pyplot as plt` <br>\n",
    "> `plt.plot(x_values, y_values)`<br>\n",
    "> `plt.show()`\n",
    "\n",
    "To create a line chart of the unemployment data from 1948, we need:\n",
    "- the x-axis to range from `01-01-1948` to `12-01-1948`\n",
    "- the y-axis to range from `3.4` to `4.0`\n",
    "\n",
    "#### Customise plot:\n",
    "- Coordonate grid (*x-axis*, *y-axis*)\n",
    "    - the default values for the coordinate grid is ranging from `-0.06` to `0.06` with no gridlines and no data\n",
    "    - to generate the line chart we're interested in, we pass in the list of *x-values* as the *first parameter* and the list of *y-values* as the *second parameter* to `plot()`\n",
    "![](https://s3.amazonaws.com/dq-content/axis+ticks.png)\n",
    "\n",
    "- Tick labels (*rotation*)\n",
    "    - we can rotate the x-axis labels by 90 degrees so they don't overlap. The `x-ticks()` function within pyplot lets us customise the behaviour of the x-axis ticks\n",
    "    \n",
    "\n",
    "- Lables and Title\n",
    "    - `xlabel(string)`: accepts a string value which is set as the x-axis label\n",
    "    - `ylabel(string)`: accepts a string value, which is set as the y-axis label\n",
    "    \n",
    "    - `title(string)`: accepts a string value, which is set as the plot title\n",
    "\n"
   ]
  },
  {
   "cell_type": "code",
   "execution_count": 9,
   "metadata": {},
   "outputs": [
    {
     "data": {
      "image/png": "[encoded data removed]",
      "text/plain": [
       "<Figure size 432x288 with 1 Axes>"
      ]
     },
     "metadata": {},
     "output_type": "display_data"
    }
   ],
   "source": [
    "# import pyplot module\n",
    "import matplotlib.pyplot as plt\n",
    "\n",
    "# renders the plots in the Jupyter notebook\n",
    "%matplotlib inline\n",
    "\n",
    "# generate a line chart that visualizes the unemployment rates from 1948\n",
    "plt.plot(unrate.DATE.iloc[:12], unrate.VALUE.iloc[:12])\n",
    "\n",
    "plt.xticks(rotation=90) # rotate the horizontal ticks by 90 degrees\n",
    "plt.xlabel(\"Month\") # set x-axis label\n",
    "plt.ylabel(\"Unuemployment Rate\") # set y-axis label\n",
    "plt.title(\"Monthly Unemployment Trends, 1948\") # set plot title\n",
    "\n",
    "# display the plot\n",
    "plt.show()"
   ]
  },
  {
   "cell_type": "code",
   "execution_count": null,
   "metadata": {},
   "outputs": [],
   "source": []
  }
 ],
 "metadata": {
  "kernelspec": {
   "display_name": "Python 3",
   "language": "python",
   "name": "python3"
  },
  "language_info": {
   "codemirror_mode": {
    "name": "ipython",
    "version": 3
   },
   "file_extension": ".py",
   "mimetype": "text/x-python",
   "name": "python",
   "nbconvert_exporter": "python",
   "pygments_lexer": "ipython3",
   "version": "3.6.5"
  }
 },
 "nbformat": 4,
 "nbformat_minor": 2
}
